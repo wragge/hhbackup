{
 "cells": [
  {
   "cell_type": "markdown",
   "metadata": {},
   "source": [
    "# Hacking Heritage: Day 1, Morning\n",
    "\n",
    "![Hacking heritage logo](../images/hhbar-nla.obj-504133589-39.png)"
   ]
  },
  {
   "cell_type": "markdown",
   "metadata": {},
   "source": [
    "## 1. The hows and whys of the GLAM Workbench\n",
    "\n",
    "More and more data is being made available by GLAM organisations (Galleries, Libraries, Archives and Museums), but how do we develop and share the skills to use that data?\n",
    "\n",
    "This three day intensive workshop will introduce you to the GLAM Workbench, a set of tools designed to help researchers make use of digital cultural heritage collections without the need for advanced coding skills. You will learn how to create and share your own Jupyter notebooks to foster new research and applications, and reveal new perspectives on cultural collections.\n",
    "\n",
    "* [View course outline](course-outline.ipynb)"
   ]
  },
  {
   "cell_type": "code",
   "execution_count": 1,
   "metadata": {
    "jupyter": {
     "source_hidden": true
    }
   },
   "outputs": [
    {
     "data": {
      "text/html": [
       "\n",
       "        <iframe\n",
       "            width=\"600\"\n",
       "            height=\"438\"\n",
       "            src=\"https://slides.com/wragge/hh2020-hows-and-whys/embed?token=yIQwVq9V\"\n",
       "            frameborder=\"0\"\n",
       "            allowfullscreen\n",
       "        ></iframe>\n",
       "        "
      ],
      "text/plain": [
       "<IPython.lib.display.IFrame at 0x7f406bf8e7b8>"
      ]
     },
     "execution_count": 1,
     "metadata": {},
     "output_type": "execute_result"
    }
   ],
   "source": [
    "from IPython.display import IFrame\n",
    "IFrame('https://slides.com/wragge/hh2020-hows-and-whys/embed?token=yIQwVq9V', 600, 438)"
   ]
  },
  {
   "cell_type": "markdown",
   "metadata": {},
   "source": [
    "## 2. How this course works\n",
    "\n",
    "### Schedule\n",
    "\n",
    "We'll have regular Zoom meetups throughout the three days. I'll use these to introduce new material and describe the activities I want you to work on. They'll also be an opportunity to check to see how everyone's travelling – no-one gets left behind!\n",
    "\n",
    "At the moment I'm thinking we'll have Zoom meetups at the following times each day:\n",
    "\n",
    "* 10.00am – 11.00am\n",
    "* 1.30pm – 2.30pm\n",
    "* 4.00pm – 4.30pm\n",
    "\n",
    "Meeting invites, and any changes to this schedule will be posted in the **#announcements** channel in our [Slack workspace](https://hackingheritage2020.slack.com).\n",
    "\n",
    "### Communication\n",
    "\n",
    "We're all entering uncharted territory. Most of you will not have used Jupyter before, let alone any tinkering with code. For me, this is an experiment in seeing how I can help people make use of the GLAM Workbench. And of course everything is online! And there's twenty of you! EEK!\n",
    "\n",
    "Communication will be critical. While there are lots of resources for you to work through in your own time, I realise how easy it can be to get stuck on something that seems perfectly obvious to me, but not to anyone else! So please let me know if you strike any trouble. That's what I'm here for.\n",
    "\n",
    "As you work through the activities feel free to add notes, thoughts, ideas, and questions to the **#discussion** channel on [Slack](https://hackingheritage2020.slack.com). It's a good way of sharing the experience, the victories, as well as the problems. When something works, post a celebration! 🎉\n",
    "\n",
    "If you get really stuck, you can put your hand up in the **#help-me** channel on [Slack](https://hackingheritage2020.slack.com) and I'll do my best to get you going again.\n",
    "\n",
    "While there will be scheduled meetup times on Zoom, I'm planning to leave the Zoom meetings open all day. So if you find yourself in need of some voice communication, feel free to log back on. (Let me know via [Slack](https://hackingheritage2020.slack.com), in case I've wandered off.)\n",
    "\n",
    "<div class=\"alert alert-info\"><img src=\"../images/hhicon.png\" width=\"50px\" style=\"vertical-align: bottom; margin-right: 10px;\">You're also welcome to share your progress through social media using the <a href=\"https://twitter.com/hashtag/glamworkbench?lang=en\">#GLAMWorkbench</a> hashtag.</div>\n",
    "\n",
    "### Expectations\n",
    "\n",
    "This is a hands-on course, so I expect you to spend the time between our Zoom meetups working through the set activities. I know that there's a range of digital skill levels in our group, and some of the activities might seem intimidating at first, but just give them a try. I'll help you through if you get stuck.\n",
    "\n",
    "I will no doubt say this many times throughout the next three days, but my aim is not to teach you how to code. That would be impossible in the time we have, and would probably be counter-productive anyway. My aim is to get you using code to do things in GLAM collections.\n",
    "\n",
    "My hope is that by the end of this course you will have made something of your own, based on what's available through the GLAM Workbench. That might be a dataset of newspaper articles harvested from Trove, a visualisation of data in a CSV file, a modified version of one of the notebooks in the workbench, or even a simple app.\n",
    "\n",
    "### This workspace\n",
    "\n",
    "All the course materials are sitting on this server. It's a JupyterHub server that I've set up specifically for this course. I decided to try this so that you'd be easily able to play with notebooks from the GLAM Workbench and save the results. Your notebooks will shutdown if nothing's happening in them for 10 minutes or so, but all of your changes, your harvested data, will be saved. **So don't panic!** Just start things up again and it'll all be there. I'm also intending to keep this server running for a month or so after the course, so you'll have time to finish projects and download what you want to keep.\n",
    "\n",
    "Some hints:\n",
    "\n",
    "* When you open the site each morning, please use the link that I've posted in Slack. This is a special link that copies course materials and notebooks from my main repository. I'll be adding more material as we go along, so if you use that link your notebooks will stay in sync. Don't worry though – any changes you make will be preserved.\n",
    "* If you get a message saying your server has shut down, just click on the button to start it up again.\n",
    "* Try not to have too many notebooks open at once.\n",
    "* I've given the server a fair bit of memory, but I'm not sure how it will perform when 20 of you all start doing things. If necessary I can increase the memory further – please let me know if you notice anything odd.\n"
   ]
  },
  {
   "cell_type": "markdown",
   "metadata": {},
   "source": [
    "## 3. Using Jupyter notebooks\n",
    "\n",
    "The GLAM Workbench uses Jupyter notebooks to share tools and examples. Jupyter notebooks combine text with live code you can run in your browser. So you can learn about GLAM data while doing useful things with it.\n",
    "\n",
    "<div class=\"alert alert-info\"><img src=\"../images/hhicon.png\" width=\"50px\" style=\"vertical-align: bottom; margin-right: 10px;\">Guess what? This thing you're reading right now <b>is a Jupyter notebook</b>! How meta. Not so scary, huh?</div>\n",
    "\n",
    "There's really only a few things you need to know to start using Jupyter notebooks. See the slides below for an intro, and the activities below for some notebooks to try."
   ]
  },
  {
   "cell_type": "code",
   "execution_count": 2,
   "metadata": {
    "jupyter": {
     "source_hidden": true
    }
   },
   "outputs": [
    {
     "data": {
      "text/html": [
       "\n",
       "        <iframe\n",
       "            width=\"600\"\n",
       "            height=\"438\"\n",
       "            src=\"https://slides.com/wragge/hh2020-jupyter-notebook/embed?token=kTESokeg\"\n",
       "            frameborder=\"0\"\n",
       "            allowfullscreen\n",
       "        ></iframe>\n",
       "        "
      ],
      "text/plain": [
       "<IPython.lib.display.IFrame at 0x7f46906d6128>"
      ]
     },
     "execution_count": 2,
     "metadata": {},
     "output_type": "execute_result"
    }
   ],
   "source": [
    "from IPython.display import IFrame\n",
    "IFrame('https://slides.com/wragge/hh2020-jupyter-notebook/embed?token=kTESokeg', 600, 438)"
   ]
  },
  {
   "cell_type": "markdown",
   "metadata": {},
   "source": [
    "## 4. Flavours of Jupyter\n",
    "\n",
    "The basics of using Jupyter notebooks are pretty straightforward. Eventually the **Shift+Enter** combo will seem natural, and you'll be running notebooks without really thinking about it.\n",
    "\n",
    "But things can get confusing when you meet Jupyter notebooks in different contexts, and using different interfaces. There are many flavours of Jupyter, and it's worth understanding some of the differences.\n",
    "\n",
    "<div class=\"alert alert-info\"><img src=\"../images/hhicon.png\" width=\"50px\" style=\"vertical-align: bottom; margin-right: 10px;\">In case you're wondering, this Jupyter notebook is currently running in <a href=\"https://jupyterlab.readthedocs.io/en/latest/\">Jupyter Lab</a>, on a <a href=\"https://jupyter.org/hub\">JupyterHub</a> server I set up for the course. So many Jupyters!</div>"
   ]
  },
  {
   "cell_type": "code",
   "execution_count": 3,
   "metadata": {
    "jupyter": {
     "source_hidden": true
    }
   },
   "outputs": [
    {
     "data": {
      "text/html": [
       "\n",
       "        <iframe\n",
       "            width=\"600\"\n",
       "            height=\"438\"\n",
       "            src=\"https://slides.com/wragge/hh2020-flavours-of-jupyter/embed?token=hOFaq7q-\"\n",
       "            frameborder=\"0\"\n",
       "            allowfullscreen\n",
       "        ></iframe>\n",
       "        "
      ],
      "text/plain": [
       "<IPython.lib.display.IFrame at 0x7f4693749208>"
      ]
     },
     "execution_count": 3,
     "metadata": {},
     "output_type": "execute_result"
    }
   ],
   "source": [
    "from IPython.display import IFrame\n",
    "IFrame('https://slides.com/wragge/hh2020-flavours-of-jupyter/embed?token=hOFaq7q-', 600, 438)"
   ]
  },
  {
   "cell_type": "markdown",
   "metadata": {},
   "source": [
    "## 5. Activities\n",
    "\n",
    "### Using Jupyter notebooks\n",
    "\n",
    "I've created a notebook that walks through the basics of using notebooks, while playing with some real, live data from the National Museum of Australia. Just follow the instructions and let me know if you strike any problems:\n",
    "\n",
    "* [Using Jupyter notebooks](course-materials/Using_Jupyter_notebooks.ipynb)\n",
    "\n",
    "While you could fly though this notebook, hitting **Shift+Enter** with abandon, make sure you take it slowly, trying out some of the suggestions and alternatives. And don't let the code intimidate you! You don't have to understand it, but you'll soon start to notice certain patterns get repeated all the time. We'll talk more about that tomorrow.\n",
    "\n",
    "### The flavours of Jupyter\n",
    "\n",
    "#### 1. The 'classic' experience\n",
    "\n",
    "Any of the notebooks in this repository can be viewed either in Jupyter Lab or in the 'classic' notebook view. Want to try the 'classic' experience? \n",
    "\n",
    "![Screenshot of Launch classic bar](../images/launch-classic.png)\n",
    "\n",
    "* From the **Help** menu above, choose 'Launch Classic Notebook'. \n",
    "* In the window that opens you'll see a list of notebooks and folders, just click on a notebook to open it. What's different? \n",
    "* Close the new windows when you've finished exploring.\n",
    "\n",
    "#### 2. Static vs live\n",
    "\n",
    "You may be wondering what the point of a 'static' view of a Jupyter notebook is? Surely the whole idea is that they're interactive. Well yes, but static views, such as those generated by [NBViewer](https://nbviewer.jupyter.org/), are easy to share, and can capture the state of your notebook at a particular moment. Let's look at an example.\n",
    "\n",
    "* Open [this notebook in NBViewer](https://nbviewer.jupyter.org/github/GLAM-Workbench/trove-newspapers/blob/master/visualise-total-newspaper-articles-by-state-year.ipynb). It visualises the total number of newspaper articles in Trove by year and state.\n",
    "* It looks much the same as the other notebooks you've been looking at, except if you try clicking on a cell, or hitting **Shift+Enter**, nothing happens...\n",
    "* NBViewer takes the data from a notebook (remember a notebook is a really just a hunk of JSON data) and renders it as HTML. There are other renderers that will turn your notebook into a PDF.\n",
    "* But it's not completely static – try moving your cursor over one of the charts.\n",
    "* Continue reading down the page until you get to this chart.\n",
    "  ![Trove totals by state](../images/trove-totals.png)\n",
    "* Try clicking on the bar charts, or the legend – you'll see that it **is** interactive. Thr HTML version embeds the data and javascript necessary to power little widgets like this.\n",
    "* What does this mean? Well, you can use static views like this to publish your **code and results** in an accessible way, that allows some limited interaction. How might this be useful?\n",
    "  ![NBviewer links](../images/nbviewer-links.png)\n",
    "* Before you leave NBViewer, try clicking on these links at the top of the page. What do they do? Which views are static and which are live?\n",
    "\n",
    "One last thing. Why are there more digitised newspaper articles from 1915? And what is the 'copyright cliff of death'? If you don't know, read the notebook a bit more closely!\n",
    "\n",
    "#### 3. Jupyter-powered apps\n",
    "\n"
   ]
  },
  {
   "cell_type": "markdown",
   "metadata": {},
   "source": [
    "The interactive chart in the notebook above demonstrates how static notebooks can function as simple apps. But we can go further, by using Appmode and Voila we can present live notebooks in an app-like format where none of the code is visible. Let's look at an example.\n",
    "\n",
    "* [This notebook](../trove-newspapers/Save-page-image.ipynb) helps you get a high-resolution version of a full newspaper page from Trove. It's not something you can do through the Trove web interface, so I guess that makes it a hack!\n",
    "* Instead of hitting **Shift+Enter**, select 'Run All Cells' from the **Run** menu.\n",
    "* If you scroll down the page you'll see a few little widgets have appeared.\n",
    "* Here's [the same notebook running in Appmode](https://mybinder.org/v2/gh/GLAM-Workbench/trove-newspapers/master?urlpath=%2Fapps%2FSave-page-image.ipynb) (it will take a little while to load). You'll see the same widgets, but no code. Appmode hides and then runs all the code cells.\n",
    "* If you don't believe me and want to check that it really is a notebook, try clicking on the **Edit App** button at the top of the page.\n",
    "* Finally here's [another version of the same notebook](http://trove-newspaper-apps.herokuapp.com/voila/render/Save-Trove-newspaper-page-as-image-app.ipynb) – using Voila you can hide all the Jupytery bits completely and just run the notebook as a standalone app.\n",
    "\n",
    "Ok, now it's time to take this notebook for a spin – it doesn't matter which version you use, they should all produce the same results!\n",
    "\n",
    "* First, copy and paste your Trove API key into the box that says 'API key'. Don't have a Trove API key? You can [get one here](https://trove.nla.gov.au/about/create-something/using-api) (it's free and quick).\n",
    "* Go to [Trove](https://trove.nla.gov.au/newspaper/) and search for a newspaper article. Once you've found something, copy the article's url, and paste it into the 'Article/Page' box in the notebook.\n",
    "  ![Article url box](../images/save-page-box.png)\n",
    "* Now just click on the **Get page image** button! If nothing happens, make sure you remembered to plug in your API key...\n"
   ]
  },
  {
   "cell_type": "code",
   "execution_count": null,
   "metadata": {},
   "outputs": [],
   "source": []
  }
 ],
 "metadata": {
  "kernelspec": {
   "display_name": "Python 3",
   "language": "python",
   "name": "python3"
  },
  "language_info": {
   "codemirror_mode": {
    "name": "ipython",
    "version": 3
   },
   "file_extension": ".py",
   "mimetype": "text/x-python",
   "name": "python",
   "nbconvert_exporter": "python",
   "pygments_lexer": "ipython3",
   "version": "3.7.3"
  }
 },
 "nbformat": 4,
 "nbformat_minor": 4
}
