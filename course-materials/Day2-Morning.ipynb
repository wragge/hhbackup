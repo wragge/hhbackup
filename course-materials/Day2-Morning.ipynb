{
 "cells": [
  {
   "cell_type": "markdown",
   "metadata": {},
   "source": [
    "# Hacking heritage: Day 2, Morning"
   ]
  },
  {
   "cell_type": "markdown",
   "metadata": {},
   "source": [
    "## 1. Running Jupyter\n",
    "\n",
    "A little bit more on the Jupyter technology ecosystem."
   ]
  },
  {
   "cell_type": "code",
   "execution_count": 1,
   "metadata": {
    "jupyter": {
     "source_hidden": true
    }
   },
   "outputs": [
    {
     "data": {
      "text/html": [
       "\n",
       "        <iframe\n",
       "            width=\"600\"\n",
       "            height=\"438\"\n",
       "            src=\"https://slides.com/wragge/hh2020-running-jupyter/embed?token=kX6uUwRQ\"\n",
       "            frameborder=\"0\"\n",
       "            allowfullscreen\n",
       "        ></iframe>\n",
       "        "
      ],
      "text/plain": [
       "<IPython.lib.display.IFrame at 0x109c3d590>"
      ]
     },
     "execution_count": 1,
     "metadata": {},
     "output_type": "execute_result"
    }
   ],
   "source": [
    "from IPython.display import IFrame\n",
    "IFrame('https://slides.com/wragge/hh2020-running-jupyter/embed?token=kX6uUwRQ', 600, 438)"
   ]
  },
  {
   "cell_type": "markdown",
   "metadata": {},
   "source": [
    "## 2. Getting to know the GLAM Workbench\n",
    "\n",
    "Let's go for a guided tour of my [GLAM Workbench](https://glam-workbench.github.io/) (and some other GLAM Workbenches!)."
   ]
  },
  {
   "cell_type": "markdown",
   "metadata": {},
   "source": [
    "## 3. Activity: Zooming in\n",
    "\n",
    "In this activity we're going to link together a number of the notebooks in the GLAM Workbench to zoom in on particular questions drawn from Trove's digitised newspapers. The point of the exercise is both to introduce you to some more useful tools, and to get you thinking about how individual notebooks can be hooked up into workflows. There a lots of possible steps to try – see how far you get!\n",
    "\n",
    "### The big picture\n",
    "\n",
    "QueryPic is a tool for visualising searches in Trove's digitised newspapers and has existed in a variety of forms since 2010. The latest version, not suprisingly, is in a Jupyter notebook. It runs in Appmode, so as we did yesterday with the CSV Explorer, it's necessary to generate a link."
   ]
  },
  {
   "cell_type": "code",
   "execution_count": 3,
   "metadata": {},
   "outputs": [
    {
     "data": {
      "text/html": [
       "<a href=\"/apps/hackingheritage2020/trove-newspapers/QueryPic_deconstructed.ipynb\">Open QueryPic in Appmode</a>"
      ],
      "text/plain": [
       "<IPython.core.display.HTML object>"
      ]
     },
     "metadata": {},
     "output_type": "display_data"
    }
   ],
   "source": [
    "from notebook.notebookapp import list_running_servers\n",
    "from IPython.display import HTML, display\n",
    "\n",
    "# Get current running servers\n",
    "servers = list_running_servers()\n",
    "# Get the current base url\n",
    "base_url = next(servers)['base_url']\n",
    "app_url = f'{base_url}apps/hackingheritage2020/trove-newspapers/QueryPic_deconstructed.ipynb'\n",
    "display(HTML(f'<a href=\"{app_url}\">Open QueryPic in Appmode</a>'))"
   ]
  },
  {
   "cell_type": "markdown",
   "metadata": {},
   "source": [
    "1. Click on the link to open QueryPic in Appmode.\n",
    "\n",
    "2. Once the page has loaded, paste your Trove API key into the box where indicated.\n",
    "\n",
    "3. Now it's time to try a search, go to the 'Compare queries' and type in a search term.\n",
    "\n",
    "4. Click on the **Add query** (note this doesn't run the search it just saves your search term).\n",
    "\n",
    "5. Type in another search term to compare to the first, click on **Add query** again.\n",
    "\n",
    "6. Keep adding as many different search terms as you want.\n",
    "\n",
    "7. Now click on click on the **Create Chart** button to run the searches and visualise the results.\n",
    "\n",
    "8. When the chart first loads it's showing the raw number of newspaper articles each year matching your query. But raw numbers can be misleading because, as we saw yesterday, the articles are not evenly distributed.\n",
    "\n",
    "9. Click on the dropdown to select 'Proportion of total articles' and see how this changes the chart.\n",
    "\n",
    "10. Continue experimenting with different search terms. Note that you can adjust the date range with the slider.\n",
    "\n",
    "11. As well as comparing multiple search terms, you can compare a single search terms across multiple states or newspapers. Click on the 'Compare states' or 'Compare newspapers' tabs to give this a try.\n",
    "\n",
    "12. Keep exploring until you find something you think might be worth exploring further. Perhaps there's an unexpected peak, or an interesting shift in usage between particular words.\n",
    "\n",
    "13. Click on the 'Download data' link to save a CSV of your search data. Useful if you want to capture the results as they are today (after all more newspapers are being added all the time). \n",
    "\n",
    "14. You can also click on the **Save chart** to generate a standalon HTML version of your chart that you can save to your own computer.\n",
    "\n",
    "### The Bigger Picture\n",
    "\n",
    "**QueryPic deconstructed** is a handy app for looking for change over time in the newspaper search results. But if you want to explore the trends it reveals in more depth, you probably want to know a bit more about what it's actually doing – the limitations and possibilities. Fortunately there's a notebook that does just that, showing how you can use search facets to slice and dice the seach results in interesting ways.\n",
    "\n",
    "1. Open up [Visualise Trove newspaper searches over time](../trove-newspapers/visualise-searches-over-time.ipynb)\n",
    "2. Paste in your API ley where indicated.\n",
    "3. This is just a standard notebook, so you can **Shift+Enter** your way through, modifying the search terms where ever you want.\n",
    "4. Copy the url of your Trove search.\n",
    "\n",
    "### Back to Trove web interface\n",
    "\n",
    "1. Armed with the interesting feature you found while playing around with QueryPic, go to the [Trove web interface](https://trove.nla.gov.au/) and and construct a search that focuses on that feature. For example, you might use the facets to filter your search by year, state, newspaper, or article type. For the purposes of this exercise, you want to limit the number of results in your search to a few thousand. (This is just so you don't spend the rest of the day waiting for your 253,000 newspaper articles to download...)\n",
    "\n",
    "### Digging deeper with the Trove Newspaper Harvester\n",
    "\n",
    "The Trove Newspaper Harvester is a command line tool that also dates back about 10 years. I've embedded it in a couple of notebooks in the GLAM Workbench to make it easier to use. \n",
    "\n",
    "The Newspaper Harvester downloads all the metadata about newspaper articles in a Trove search, and the OCRd text of each individual article. This means that we can explore the contents of the articles in depth with a variety of tools. It's worth remembering too that the Trove web interface only lets you see the first 2,000 articles in your search. The Newspaper Harvester can download many thousands of articles. A while back I harvested more than half a million articles to [explore the changing context of the words 'aliens' and 'immigrants'](http://timsherratt.org/blog/who-belongs/).\n",
    "\n",
    "Recently I added the option to save images of all the newspaper articles. This is pretty cool, but it does slow the harvest down considerably. If you want to try out the image harvesting, start with a search that has a small number of results.\n",
    "\n",
    "1. Open up [Using TroveHarvester to get newspaper articles in bulk](../trove-newspaper-harvester/Using-TroveHarvester-to-get-newspaper-articles-in-bulk.ipynb). There's also an app-ified version in the GLAM Workbench, but the notebook includes a bit more information about what's going on.\n",
    "2. Paste in your Trove API key where indicated. Remember to run the cell to save the value!\n",
    "3. Paste the search you copied from the Trove web interface in as the value of `query`. Remember to run the cell to save the value!\n",
    "4. Run the cell that says `%run -m troveharvester -- start $query $api_key --text` to start your harvest.\n",
    "\n",
    "5. If you want to get images as well, you need to add ` --image` to this cell before you start harvesting.\n",
    "6. While you're waiting for your harvest to complete, have a read of the information about the format of the harvest results.\n",
    "7. Once your harvest has finished, zip up and download all the the text, data, and images by running the two cells under 'Download your data'. Once it's downloaded, unzip it!\n",
    "\n",
    "### Use the CSV Explorer to visualise your results!\n",
    "\n",
    "I don't know if you noticed yesterday, but the GLAM CSV Explorer includes an option to upload your own CSV file for analysis. Let's see what happens when we upload the article metadata we just harvested. Once again we need to generate an appmode link to the CSV Explorer with the following cell."
   ]
  },
  {
   "cell_type": "code",
   "execution_count": 1,
   "metadata": {},
   "outputs": [
    {
     "data": {
      "text/html": [
       "<a href=\"/apps/hackingheritage2020/csv-explorer/csv-explorer.ipynb\">Open CSV Explorer in Appmode</a>"
      ],
      "text/plain": [
       "<IPython.core.display.HTML object>"
      ]
     },
     "metadata": {},
     "output_type": "display_data"
    }
   ],
   "source": [
    "from notebook.notebookapp import list_running_servers\n",
    "from IPython.display import HTML, display\n",
    "\n",
    "# Get current running servers\n",
    "servers = list_running_servers()\n",
    "# Get the current base url\n",
    "base_url = next(servers)['base_url']\n",
    "app_url = f'{base_url}apps/hackingheritage2020/csv-explorer/csv-explorer.ipynb'\n",
    "display(HTML(f'<a href=\"{app_url}\">Open CSV Explorer in Appmode</a>'))"
   ]
  },
  {
   "cell_type": "markdown",
   "metadata": {},
   "source": [
    "1. Click on the link above to open the CSV Explorer in Appmode.\n",
    "\n",
    "2. Click on the 'Upload CSV' tab.\n",
    "\n",
    "3. Click on the upload button and navigate to the unzipped data folder you just downloaded. Select the file named `results.csv` inside the downloaded folder.\n",
    "\n",
    "4. Click on the **Analyse CSV** button!\n",
    "\n",
    "5. What can you find out about your dataset?\n",
    "\n",
    "### Turn your harvested data into searchable database\n",
    "\n",
    "Using Datasette, we can put our harvested metadata, OCRd text, and even images into a searchable online database.\n",
    "\n",
    "1. Open up [Display the results of a harvest as a searchable database using Datasette](../trove-newspaper-harvester/display_harvest_results_using_datasette.ipynb)\n",
    "\n",
    "2. Run the first two cells to create your database from the article metadata. Note that by default, the notebook will use the most recently completed harvest as the source of its data. **Don't** run the cell that says `open_datasette()` yet.\n",
    "\n",
    "3. Run the first two cells under 'Add Ocrd text' they'll add the text of the articles to your database and make it full text searchable.\n",
    "\n",
    "4. If you harvested images as well as text, run the first two cells under 'Add image links'.\n",
    "\n",
    "5. Ok, now you're ready to run one of the `open_datasette()` cells (it doesn't matter which one). After you run it a blue button will appear, just wait for a moment until you see a message that the server is running.\n",
    "\n",
    "6. Now click on the big blue **View in Datasette** button. It will open your database in a new tab.\n",
    "\n",
    "7. Click on the 'records' link to view the harvested data.\n",
    "\n",
    "8. Explore! Try some searches! What can you find?\n",
    "\n",
    "Using Datasette it's even possible to create a public, online version of your database. If you're interested in finding out how, [this article will get you started](https://101dhhacks.net/share-searchable-csvs/).\n",
    "\n",
    "### Other ways of exploring the harvested data\n",
    "\n",
    "I've created a few other notebooks that explore the harvested data in different ways.\n",
    "\n",
    "1. [Exploring your Trove Harvester data](../trove-newspaper-harvester/Exploring-your-TroveHarvester-data.ipynb) doesn't do much more than the CSV Explorer, though it does include a map showing the places of publication.\n",
    "\n",
    "2. [Explore harvested text files](../trove-newspaper-harvester/Explore-harvested-text-files.ipynb) does some word frequency analysis across **all** the files of OCRd text. It's worth having a look at, especially for the cool faceted charts! It also lets you compare the frequency of particular words (like QueryPic, but with bubbles).\n",
    "\n",
    "![Faceted data](../images/faceted-data.png)\n",
    "\n",
    "3. Finally, [Explore harvested text files using TF-IDF](../trove-newspaper-harvester/Explore-harvested-text-files-using-tfidf.ipynb) looks at word frequency a bit differently. TF-IDF scores are calculated by comparing the number of times a word appears in a single document to the number of times it appears in a collection of documents. Word frequencies point us to 'common' words, TF-IDF can indicate 'significant' words. This notebook aggregates the articles by year and then calculates TF-IDF values for each word in each year. How do the words highlighted by TF-IDF differ to the most frequent words?\n"
   ]
  }
 ],
 "metadata": {
  "kernelspec": {
   "display_name": "Python 3",
   "language": "python",
   "name": "python3"
  },
  "language_info": {
   "codemirror_mode": {
    "name": "ipython",
    "version": 3
   },
   "file_extension": ".py",
   "mimetype": "text/x-python",
   "name": "python",
   "nbconvert_exporter": "python",
   "pygments_lexer": "ipython3",
   "version": "3.7.7"
  }
 },
 "nbformat": 4,
 "nbformat_minor": 4
}
