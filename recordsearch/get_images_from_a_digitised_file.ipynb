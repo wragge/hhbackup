{
 "cells": [
  {
   "cell_type": "markdown",
   "metadata": {},
   "source": [
    "# Download the contents of a digitised file from the National Archives of Australia\n",
    "\n",
    "**Why?** RecordSearch lets you download a PDF of a digitised file, but sometimes it's more convenient to work with individual images.\n",
    "\n",
    "**How?** Just enter the barcode of the file in the box below and click the button. When all the images have been downloaded they'll be zipped up, and a convenient download link will be displayed.\n",
    "\n",
    "**More?** Click the 'Edit App' button at the top of the page to see how this works."
   ]
  },
  {
   "cell_type": "code",
   "execution_count": 2,
   "metadata": {},
   "outputs": [],
   "source": [
    "import os\n",
    "import shutil\n",
    "import requests\n",
    "import ipywidgets as widgets\n",
    "import time\n",
    "from slugify import slugify\n",
    "from IPython.display import display, HTML, FileLink\n",
    "from tqdm.auto import tqdm\n",
    "from recordsearch_tools.client import RSItemClient\n",
    "from recordsearch_tools.utilities import retry"
   ]
  },
  {
   "cell_type": "code",
   "execution_count": 28,
   "metadata": {},
   "outputs": [],
   "source": [
    "@retry(ConnectionError, tries=20, delay=10, backoff=1)\n",
    "def get_images(b):\n",
    "    with out:\n",
    "        if barcode.value:\n",
    "            client = RSItemClient()\n",
    "            item = client.get_summary(entity_id=barcode.value)\n",
    "            if item['digitised_pages'] > 0:\n",
    "                series = slugify(item['series'])\n",
    "                control = slugify(item['control_symbol'])\n",
    "                dir_name = f'{series}-{control}-[{item[\"identifier\"]}]'\n",
    "                dir_path = os.path.join('data', 'images', dir_name)\n",
    "                if not os.path.exists(dir_path):\n",
    "                    os.makedirs(dir_path)\n",
    "                for page in tqdm(range(1, item['digitised_pages'] + 1)):\n",
    "                    filename = '{}/{}-p{}.jpg'.format(dir_path, item['identifier'], page)\n",
    "                    if not os.path.exists(filename):\n",
    "                        img_url = 'http://recordsearch.naa.gov.au/NaaMedia/ShowImage.asp?B={}&S={}&T=P'.format(item['identifier'], page)\n",
    "                        response = requests.get(img_url, stream=True, verify=False)\n",
    "                        response.raise_for_status()\n",
    "                        with open(filename, 'wb') as out_file:\n",
    "                            shutil.copyfileobj(response.raw, out_file)\n",
    "                    time.sleep(0.5)\n",
    "                shutil.make_archive(dir_path, 'zip', dir_path)\n",
    "                link = f'{dir_path}.zip'\n",
    "                display(HTML(f'Download zipped images: <a href=\"{link}\" download=\"{dir_name}.zip\">{link}</a>'))\n",
    "            else:\n",
    "                print('Sorry, that item has not been digitised...')\n",
    "        else:\n",
    "            print('You need to provide a barcode!')"
   ]
  },
  {
   "cell_type": "code",
   "execution_count": 29,
   "metadata": {},
   "outputs": [
    {
     "data": {
      "application/vnd.jupyter.widget-view+json": {
       "model_id": "a41658c05ba44d4dbb0c30179c826993",
       "version_major": 2,
       "version_minor": 0
      },
      "text/plain": [
       "Text(value='', description='Barcode:', placeholder='Enter item barcode')"
      ]
     },
     "metadata": {},
     "output_type": "display_data"
    }
   ],
   "source": [
    "barcode = widgets.Text(\n",
    "    placeholder='Enter item barcode',\n",
    "    description='Barcode:',\n",
    "    disabled=False\n",
    ")\n",
    "display(barcode)"
   ]
  },
  {
   "cell_type": "code",
   "execution_count": 30,
   "metadata": {},
   "outputs": [
    {
     "data": {
      "application/vnd.jupyter.widget-view+json": {
       "model_id": "974692a9db4442f3b743f91aaacc60db",
       "version_major": 2,
       "version_minor": 0
      },
      "text/plain": [
       "Button(button_style='primary', description='Get images', style=ButtonStyle(), tooltip='Click to harvest images…"
      ]
     },
     "metadata": {},
     "output_type": "display_data"
    },
    {
     "data": {
      "application/vnd.jupyter.widget-view+json": {
       "model_id": "6c1d680186194bcc9e55c5f46ad4bffa",
       "version_major": 2,
       "version_minor": 0
      },
      "text/plain": [
       "Output()"
      ]
     },
     "metadata": {},
     "output_type": "display_data"
    }
   ],
   "source": [
    "button = widgets.Button(\n",
    "        description='Get images',\n",
    "        disabled=False,\n",
    "        button_style='primary', # 'success', 'info', 'warning', 'danger' or ''\n",
    "        tooltip='Click to harvest images',\n",
    "        icon=''\n",
    "    )\n",
    "button.on_click(get_images)\n",
    "display(button)\n",
    "\n",
    "out = widgets.Output()\n",
    "display(out)"
   ]
  },
  {
   "cell_type": "markdown",
   "metadata": {},
   "source": [
    "----\n",
    "\n",
    "Created by [Tim Sherratt](https://timsherratt.org/) as part of the [GLAM Workbench](https://glam-workbench.github.io/)."
   ]
  }
 ],
 "metadata": {
  "kernelspec": {
   "display_name": "Python 3",
   "language": "python",
   "name": "python3"
  },
  "language_info": {
   "codemirror_mode": {
    "name": "ipython",
    "version": 3
   },
   "file_extension": ".py",
   "mimetype": "text/x-python",
   "name": "python",
   "nbconvert_exporter": "python",
   "pygments_lexer": "ipython3",
   "version": "3.7.7"
  }
 },
 "nbformat": 4,
 "nbformat_minor": 4
}
