{
 "cells": [
  {
   "cell_type": "markdown",
   "metadata": {},
   "source": [
    "# DFAT Cable Finder\n",
    "\n",
    "**If you ever need to find a file in the National Archives of Australia that contains a specific numbered cable from the Department of Foreign Affairs this is the tool for you!**\n",
    "\n",
    "Just give it a cable number and it will look in the series listed below for a file that might contain the cable. For each possible match it returns a link to the file as well as a bit of information about it.\n",
    "\n",
    "This tool works because many of the files in these series include the first and last numbered cable in the file title. So all it does is look at the numbers in each file title to see if the cable you're interested in falls somewhere between them. It's simple, but it's not something you can do in RecordSearch.\n",
    "\n",
    "It's far from perfect because the way the file titles are constructed are not always consistent, but it's quicker than looking through all the file titles manually.\n",
    "\n",
    "Series searched:\n",
    "\n",
    "* [A11785](http://www.naa.gov.au/cgi-bin/Search?O=S&Number=A11785) – Top Secret original and spares inward cables, annual single number series (1948-1972)\n",
    "* [A11786](http://www.naa.gov.au/cgi-bin/Search?O=S&Number=A11786) – Top Secret original and spares outward cables, single number series (1948-1972)\n",
    "* [A3195](http://www.naa.gov.au/cgi-bin/Search?O=S&Number=A3195) – Master sheets (used stencils) of inwards cables, annual single number series (1939-1949)\n",
    "* [A3196](http://www.naa.gov.au/cgi-bin/Search?O=S&Number=A3196) – Master sheets (used stencils) of outwards cables, annual single number series (1939-1949)\n",
    "* [A6364](http://www.naa.gov.au/cgi-bin/Search?O=S&Number=A6364) – Printed copies of inward cables with I (Inward) prefix filed in binders alphabetically by post (1950-1974)\n",
    "* [A6366](http://www.naa.gov.au/cgi-bin/Search?O=S&Number=A6366) – Printed copies of outward cables with O (Outward) prefix filed in binders alphabetically by post (1950-1974)\n",
    "\n",
    "Let me know if you'd like additional series added. If you want to refresh the series data from RecordSearch, just delete the `cables_data.json` file before running a search. The tool will then reharvest all the data."
   ]
  },
  {
   "cell_type": "code",
   "execution_count": 1,
   "metadata": {},
   "outputs": [],
   "source": [
    "from recordsearch_tools.client import RSSearchClient\n",
    "import math\n",
    "import re\n",
    "from tqdm import tqdm_notebook, tnrange\n",
    "from IPython.display import display, HTML\n",
    "import ipywidgets as widgets\n",
    "import json\n",
    "from copy import deepcopy"
   ]
  },
  {
   "cell_type": "code",
   "execution_count": 2,
   "metadata": {},
   "outputs": [],
   "source": [
    "series = ['A11785', 'A11786', 'A3195 ', 'A3196', 'A6364', 'A6366']"
   ]
  },
  {
   "cell_type": "code",
   "execution_count": 4,
   "metadata": {
    "scrolled": false
   },
   "outputs": [
    {
     "data": {
      "application/vnd.jupyter.widget-view+json": {
       "model_id": "",
       "version_major": 2,
       "version_minor": 0
      },
      "text/plain": [
       "HBox(children=(IntProgress(value=0, description='A3195 ', max=7, style=ProgressStyle(description_width='initia…"
      ]
     },
     "metadata": {},
     "output_type": "display_data"
    },
    {
     "data": {
      "application/vnd.jupyter.widget-view+json": {
       "model_id": "",
       "version_major": 2,
       "version_minor": 0
      },
      "text/plain": [
       "HBox(children=(IntProgress(value=0, description='A3196', max=23, style=ProgressStyle(description_width='initia…"
      ]
     },
     "metadata": {},
     "output_type": "display_data"
    },
    {
     "data": {
      "application/vnd.jupyter.widget-view+json": {
       "model_id": "",
       "version_major": 2,
       "version_minor": 0
      },
      "text/plain": [
       "HBox(children=(IntProgress(value=0, description='A6364', max=14, style=ProgressStyle(description_width='initia…"
      ]
     },
     "metadata": {},
     "output_type": "display_data"
    },
    {
     "data": {
      "application/vnd.jupyter.widget-view+json": {
       "model_id": "",
       "version_major": 2,
       "version_minor": 0
      },
      "text/plain": [
       "HBox(children=(IntProgress(value=0, description='A6366', max=12, style=ProgressStyle(description_width='initia…"
      ]
     },
     "metadata": {},
     "output_type": "display_data"
    },
    {
     "data": {
      "text/html": [
       "<h3>Find files containing this numbered cable</h3>"
      ],
      "text/plain": [
       "<IPython.core.display.HTML object>"
      ]
     },
     "metadata": {},
     "output_type": "display_data"
    },
    {
     "data": {
      "application/vnd.jupyter.widget-view+json": {
       "model_id": "0023c28043c94a4698ee33c95962f953",
       "version_major": 2,
       "version_minor": 0
      },
      "text/plain": [
       "VBox(children=(Text(value='', description='Cable:', placeholder='enter cable number'), HTML(value='<p><b>Filte…"
      ]
     },
     "metadata": {},
     "output_type": "display_data"
    }
   ],
   "source": [
    "def get_total_files(series):\n",
    "    '''\n",
    "    Get the number of files in a series.\n",
    "    '''\n",
    "    rsclient = RSSearchClient()\n",
    "    results = rsclient.search(sort=5, digitised=False, series=series)\n",
    "    return int(results['total_results'])\n",
    "    \n",
    "def get_files(series):\n",
    "    '''\n",
    "    Harvest file details from a series in RecordSearch\n",
    "    '''\n",
    "    all_results = []\n",
    "    rsclient = RSSearchClient()\n",
    "    total_results = get_total_files(series)\n",
    "    pages = math.ceil(total_results/20)\n",
    "    for page in tnrange(1, pages+1, desc=series, leave=False):\n",
    "        results = rsclient.search(page=page, sort=5, series=series)\n",
    "        all_results += results['results']\n",
    "    return all_results\n",
    "\n",
    "def refresh_data():\n",
    "    '''\n",
    "    Harvest data from the listed series and save the results in a json file.\n",
    "    '''\n",
    "    results = []\n",
    "    for s in series:\n",
    "        results += get_files(s)\n",
    "    with open('cables_data.json', 'w') as json_file:\n",
    "        json.dump(results, json_file)\n",
    "    return results\n",
    "        \n",
    "def load_data():\n",
    "    '''\n",
    "    Try to load preharvested data.\n",
    "    If the data file doesn't exist, harvest it.\n",
    "    '''\n",
    "    try:\n",
    "        with open('cables_data.json', 'r') as json_file:\n",
    "            results = json.load(json_file)\n",
    "    except (FileNotFoundError, json.JSONDecodeError):\n",
    "        results = refresh_data()\n",
    "    return results\n",
    "\n",
    "def check_year(r, year):\n",
    "    keep = False\n",
    "    try:\n",
    "        start = int(r['contents_dates']['start_date'][:4])\n",
    "        end = int(r['contents_dates']['end_date'][:4])\n",
    "    except (TypeError, KeyError):\n",
    "        pass\n",
    "    else:\n",
    "        if int(year) >= start and int(year) <= end:\n",
    "            keep = True\n",
    "    return keep\n",
    "\n",
    "def find_cable(cable, series=None, year=None):\n",
    "    display_results.clear_output()\n",
    "    # Load pre harvested data\n",
    "    results = load_data()\n",
    "    try:\n",
    "        cable_num = int(re.search(r'[OI0]{0,1}\\.{0,1}\\s*?(\\d+)', cable).group(1))\n",
    "    except AttributeError:\n",
    "        print('Not a number')\n",
    "    filtered_results = deepcopy(results)\n",
    "    if series:\n",
    "        filtered_results = [r for r in filtered_results if r['series'] == series]\n",
    "    if year:\n",
    "        filtered_results = [r for r in filtered_results if check_year(r, year) is True]       \n",
    "    for result in filtered_results:\n",
    "        # Start conservatively, looking for O or I in front of numbers\n",
    "        cables = re.findall(r'[OI]{1}\\.{0,1}\\s*?(\\d+)', result['title'])\n",
    "        if len(cables) == 0:\n",
    "            # If that didn't work find all numbers\n",
    "            cables = re.findall(r'\\d+', result['title'])\n",
    "        if len(cables) > 2:\n",
    "            # If there are too many numbers, exclude ones that look like years\n",
    "            cables = [c for c in cables if not re.search(r'^19[1-9]{1}\\d{1}$', c)]\n",
    "        # Just right\n",
    "        # print(cables)\n",
    "        if len(cables) == 2:\n",
    "            if cable_num >= int(cables[0]) and cable_num <= int(cables[1]):\n",
    "                # Display the details of each candidate\n",
    "                html = '<p><b>NAA: <a href=\"http://www.naa.gov.au/cgi-bin/Search?O=I&Number={}\">{}, {}</a></b>'.format(result['identifier'], result['series'], result['control_symbol'])\n",
    "                html += '<br>{}'.format(result['title'])\n",
    "                html += '<br>{}'.format(result['contents_dates']['date_str'])\n",
    "                if result['digitised_status'] is True:\n",
    "                    html += '<br>Digitised: {} pages'.format(result['digitised_pages'])\n",
    "                html+= '</p>'\n",
    "                with display_results:\n",
    "                    display(HTML(html))\n",
    "\n",
    "def run_query(b):\n",
    "    find_cable(cable.value, series=series_select.value, year=year.value)\n",
    "    \n",
    "    \n",
    "# All the widgety things\n",
    "series_options = [(s, s) for s in series]\n",
    "series_options[0] = ('All', None)\n",
    "series_select = widgets.Dropdown(options=series_options, description='Series:')\n",
    "year = widgets.Text(value=None, placeholder='filter by year, eg 1940', description='Year:')\n",
    "cable = widgets.Text(value=None, placeholder='enter cable number', description='Cable:')\n",
    "display_results = widgets.Output(layout=widgets.Layout(margin='40px 0 0 0'))\n",
    "button = widgets.Button(description='Find files!', button_style='primary', layout=widgets.Layout(margin='20px 0 0 0'))\n",
    "button.on_click(run_query)\n",
    "display(HTML('<h3>Find files containing this numbered cable</h3>'))\n",
    "display(widgets.VBox([cable, \n",
    "                      widgets.HTML('<p><b>Filter by series and/or year to reduce the number of results</b></p>'), \n",
    "                      series_select, \n",
    "                      year,\n",
    "                      button,\n",
    "                      display_results]))"
   ]
  },
  {
   "cell_type": "code",
   "execution_count": null,
   "metadata": {},
   "outputs": [],
   "source": []
  }
 ],
 "metadata": {
  "kernelspec": {
   "display_name": "Python 3",
   "language": "python",
   "name": "python3"
  },
  "language_info": {
   "codemirror_mode": {
    "name": "ipython",
    "version": 3
   },
   "file_extension": ".py",
   "mimetype": "text/x-python",
   "name": "python",
   "nbconvert_exporter": "python",
   "pygments_lexer": "ipython3",
   "version": "3.7.3"
  }
 },
 "nbformat": 4,
 "nbformat_minor": 2
}
